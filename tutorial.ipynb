{
 "cells": [
  {
   "cell_type": "markdown",
   "source": [
    "# Micrograd\n",
    "**Link**: https://github.com/karpathy/micrograd\n",
    "\n",
    "1. Micrograd is an autograd (automatic gradient) engine i.e. it implements backpropagation.\n",
    "2. **Backpropagation**: efficiently calculates the gradient of a loss function, with respect to the parameters of a neural network. This allows us to iteratively tune the parameters of the neural network to minimize the loss function and thereby improve the accuracy of the network.\n",
    "3. Micrograd allows us to build mathematical expressions as compute graphs. Imagine a compute graph with `x1`, `w1`, and `w0` nodes as input values. The parent layer node `w1x1` is a multiplication (`*`) operator that calculates and stores the product of `x1` and `w1`. The grandparent layer `z` is an addition operator (`+`) that sums the values in nodes `w1x1` and `w0`. This compute graph represents a _weighted linear combination_ ($z=w_1\\cdot x_1+w_0$). If you add another node `a` on top of the weighted linear combination that non-linearly squashes the value of `z` within some fixed range, e.g. sigmoid ($\\sigma(z)$), hyperbolic tangent ($\\text{tanh}(z)$), rectified linear unit ($\\text{relu}(z)$), you get a _perceptron_. We could additionally place a loss function node on top of `a` and the true label, to evaluate the accuracy of the perceptron.\n",
    "    1. Forward pass value of node `a` is stored in the `a.data` variable.\n",
    "    2. To run backpropagation starting at node `a` use the `a.backward()` method, which applies the chain rule from calculus, i.e. the derivative of `a` with respect to each internal node and inputs (`a`, `z`, `w1x1`, `x1`, `w1`, and `w0`).\n",
    "    3. The backward pass values, i.e. the gradients, are stored in the `grad` variable e.g., `w1.grad` contains $\\frac{da}{dw_1}$. The gradient tells us how `w1` affects `a` i.e., if we slightly increment `w1`, how much would `a` change by?\n",
    "        * $\\frac{da}{da} = 1$; trivial and irrelevant for training neural networks.\n",
    "        * $\\frac{da}{dx_1}$; derivative of the activation (or loss function) w.r.t. the data is not useful for training neural networks because the data is fixed.\n",
    "        * $\\frac{da}{dw_0}$, $\\frac{da}{dw_1}$; derivatives of the activation (or loss function) w.r.t. the weights is useful for training neural networks because the weights can be tuned.\n",
    "4. \"Micrograd is all you need\" to train neural networks. Everything else given by frameworks such as Torch and JAX is just computational efficiency."
   ],
   "metadata": {
    "collapsed": false
   }
  },
  {
   "cell_type": "code",
   "execution_count": 1,
   "metadata": {
    "collapsed": true,
    "ExecuteTime": {
     "end_time": "2023-07-19T12:09:04.829742Z",
     "start_time": "2023-07-19T12:09:04.370207Z"
    }
   },
   "outputs": [],
   "source": [
    "import numpy as np\n",
    "import matplotlib.pyplot as plt\n",
    "\n",
    "np.random.seed(1234)"
   ]
  },
  {
   "cell_type": "markdown",
   "source": [
    "## Derivative\n",
    "\n",
    "$$\n",
    "L = \\lim_{h \\rightarrow 0} \\frac{f(x + h) - f(x)}{h}\n",
    "$$\n",
    "\n",
    "### Univariate function"
   ],
   "metadata": {
    "collapsed": false
   }
  },
  {
   "cell_type": "code",
   "execution_count": 2,
   "outputs": [],
   "source": [
    "def f(x):\n",
    "    return 3*x**2 - 4*x + 5"
   ],
   "metadata": {
    "collapsed": false,
    "ExecuteTime": {
     "end_time": "2023-07-19T12:09:04.835477Z",
     "start_time": "2023-07-19T12:09:04.831753Z"
    }
   }
  },
  {
   "cell_type": "code",
   "execution_count": 3,
   "outputs": [
    {
     "data": {
      "text/plain": "20.0"
     },
     "execution_count": 3,
     "metadata": {},
     "output_type": "execute_result"
    }
   ],
   "source": [
    "f(3.0)"
   ],
   "metadata": {
    "collapsed": false,
    "ExecuteTime": {
     "end_time": "2023-07-19T12:09:04.842949Z",
     "start_time": "2023-07-19T12:09:04.838865Z"
    }
   }
  },
  {
   "cell_type": "code",
   "execution_count": 4,
   "outputs": [
    {
     "data": {
      "text/plain": "[<matplotlib.lines.Line2D at 0x108198950>]"
     },
     "execution_count": 4,
     "metadata": {},
     "output_type": "execute_result"
    },
    {
     "data": {
      "text/plain": "<Figure size 640x480 with 1 Axes>",
      "image/png": "[encoded data removed]"
     },
     "metadata": {},
     "output_type": "display_data"
    }
   ],
   "source": [
    "xs = np.arange(-5, 5, 0.25)\n",
    "ys = f(xs)\n",
    "plt.plot(xs, ys)"
   ],
   "metadata": {
    "collapsed": false,
    "ExecuteTime": {
     "end_time": "2023-07-19T12:09:05.002125Z",
     "start_time": "2023-07-19T12:09:04.846510Z"
    }
   }
  },
  {
   "cell_type": "code",
   "execution_count": 5,
   "outputs": [
    {
     "name": "stdout",
     "output_type": "stream",
     "text": [
      "f(x): 20.0\n",
      "f(x + h): 20.000014000003002\n",
      "df(x)/dx: 14.000003002223593\n",
      "6x - 4: 14.0\n"
     ]
    }
   ],
   "source": [
    "h = 1e-6\n",
    "x = 3.0\n",
    "\n",
    "print(f\"f(x): { f(x) }\")\n",
    "print(f\"f(x + h): { f(x + h) }\")\n",
    "print(f\"df(x)/dx: { (f(x + h) - f(x)) / h }\")\n",
    "print(f\"6x - 4: { 6*x - 4 }\")"
   ],
   "metadata": {
    "collapsed": false,
    "ExecuteTime": {
     "end_time": "2023-07-19T12:09:05.006396Z",
     "start_time": "2023-07-19T12:09:05.003503Z"
    }
   }
  },
  {
   "cell_type": "markdown",
   "source": [
    "### Multivariate function\n",
    "\n",
    "$$\n",
    "g(w_1, x_1, w_0) = w_1\\cdot x_1 + w_0\n",
    "$$"
   ],
   "metadata": {
    "collapsed": false
   }
  },
  {
   "cell_type": "code",
   "execution_count": 6,
   "outputs": [],
   "source": [
    "def g(w1, x1, w0):\n",
    "    return w1 * x1 + w0"
   ],
   "metadata": {
    "collapsed": false,
    "ExecuteTime": {
     "end_time": "2023-07-19T12:09:05.010360Z",
     "start_time": "2023-07-19T12:09:05.007443Z"
    }
   }
  },
  {
   "cell_type": "code",
   "execution_count": 7,
   "outputs": [
    {
     "name": "stdout",
     "output_type": "stream",
     "text": [
      "g(w1, x1, w0): 1.0\n",
      "g(w1 + h, x1, w0): 1.0000020000000003\n",
      "dg(w1, x1, w0)/da: 2.000000000279556\n",
      "b: 2.0\n"
     ]
    }
   ],
   "source": [
    "h = 1e-6\n",
    "w1, x1, w0 = -3.0, 2.0, 7.0\n",
    "\n",
    "print(f\"g(w1, x1, w0): { g(w1, x1, w0) }\")\n",
    "print(f\"g(w1 + h, x1, w0): { g(w1 + h, x1, w0)}\")\n",
    "print(f\"dg(w1, x1, w0)/da: { (g(w1 + h, x1, w0) - g(w1, x1, w0)) / h }\")\n",
    "print(f\"b: { x1 }\")"
   ],
   "metadata": {
    "collapsed": false,
    "ExecuteTime": {
     "end_time": "2023-07-19T12:09:05.015524Z",
     "start_time": "2023-07-19T12:09:05.012122Z"
    }
   }
  },
  {
   "cell_type": "code",
   "execution_count": 8,
   "outputs": [
    {
     "name": "stdout",
     "output_type": "stream",
     "text": [
      "d(w1, x1, w0): 1.0\n",
      "d(w1, x1 + h, w0): 0.9999969999999996\n",
      "dg(w1, x1, w0)/db: -3.000000000419334\n",
      "a: -3.0\n"
     ]
    }
   ],
   "source": [
    "h = 1e-6\n",
    "w1, x1, w0 = -3.0, 2.0, 7.0\n",
    "\n",
    "print(f\"d(w1, x1, w0): { g(w1, x1, w0) }\")\n",
    "print(f\"d(w1, x1 + h, w0): { g(w1, x1 + h, w0) }\")\n",
    "print(f\"dg(w1, x1, w0)/db: { (g(w1, x1 + h, w0) - g(w1, x1, w0)) / h }\")\n",
    "print(f\"a: { w1 }\")"
   ],
   "metadata": {
    "collapsed": false,
    "ExecuteTime": {
     "end_time": "2023-07-19T12:09:05.020472Z",
     "start_time": "2023-07-19T12:09:05.017347Z"
    }
   }
  },
  {
   "cell_type": "code",
   "execution_count": 9,
   "outputs": [
    {
     "name": "stdout",
     "output_type": "stream",
     "text": [
      "g(w1, x1, w0): 1.0\n",
      "g(w1, x1, w0 + h): 1.0000010000000001\n",
      "dg(w1, x1, w0)/dc: 1.000000000139778\n",
      "1: 1\n"
     ]
    }
   ],
   "source": [
    "h = 1e-6\n",
    "w1, x1, w0 = -3.0, 2.0, 7.0\n",
    "\n",
    "print(f\"g(w1, x1, w0): { g(w1, x1, w0) }\")\n",
    "print(f\"g(w1, x1, w0 + h): { g(w1, x1, w0 + h) }\")\n",
    "print(f\"dg(w1, x1, w0)/dc: { (g(w1, x1, w0 + h) - g(w1, x1, w0)) / h }\")\n",
    "print(f\"1: { 1 }\")"
   ],
   "metadata": {
    "collapsed": false,
    "ExecuteTime": {
     "end_time": "2023-07-19T12:09:05.098428Z",
     "start_time": "2023-07-19T12:09:05.022165Z"
    }
   }
  },
  {
   "cell_type": "markdown",
   "source": [
    "## Building mathematical expressions\n",
    "\n",
    "1. The main thing to remember when implementing an operator for the `Value` object is to know how to compute the local derivative i.e. the gradient of the node output w.r.t. to each of its children. Otherwise, the operator can be at any level of abstraction (implementing the components of tanh i.e. exponent, addition, subtraction, division vs. implementing tanh directly).\n",
    "\n",
    "In this example, we will build a perceptron."
   ],
   "metadata": {
    "collapsed": false
   }
  },
  {
   "cell_type": "code",
   "execution_count": 10,
   "outputs": [],
   "source": [
    "from micrograd.engine import Value"
   ],
   "metadata": {
    "collapsed": false,
    "ExecuteTime": {
     "end_time": "2023-07-19T12:09:05.098690Z",
     "start_time": "2023-07-19T12:09:05.028939Z"
    }
   }
  },
  {
   "cell_type": "markdown",
   "source": [
    "### Manual gradient calculation\n",
    "\n",
    "Using the chain rule in calculus—\n",
    "* $\\frac{da}{da} = 1$: trivial case.\n",
    "* $a = \\text{tanh}(z)$: _tanh_ activation.\n",
    "    * $\\frac{da}{dz}=\\frac{d}{dz}\\text{tanh}\\, z = 1-\\text{tanh}^2z = 1-(0.7616)^2 = 0.42$.\n",
    "* $z = w_1x_1 + x_0$: linear combination.\n",
    "    * $\\frac{da}{dw1x1} = \\frac{da}{dz}\\cdot\\frac{dz}{dw1x1}=0.42\\cdot 1=0.42$: locally, if you increment a summation term by some amount, the overall sum will increase by that same amount.\n",
    "    * $\\frac{da}{dw_0} = \\frac{da}{dz}\\cdot\\frac{dz}{dw_0}=0.42\\cdot 1=0.42$: same as above.\n",
    "* $w_1x_1 = w_1\\cdot x_1$: product.\n",
    "    * $\\frac{da}{dx_1} = \\frac{da}{dz}\\cdot\\frac{dz}{dw1x1}\\cdot\\frac{w1x1}{dx_1} = 0.42\\cdot 1\\cdot w_1 = 0.42\\cdot -3 = -1.26$: locally, if you increase $x_1$ by a small amount, the product term will scale proportional to $w_1$.\n",
    "    * $\\frac{da}{dw_1} = \\frac{da}{dz}\\cdot\\frac{dz}{dw1x1}\\cdot\\frac{w1x1}{dw_1} = 0.42\\cdot 1\\cdot x_1 = 0.42\\cdot 2=0.84$: locally, if you increase $w_1$ by a small amount, the product term will scale proportional to $x_1$.\n",
    "\n",
    "In summary,\n",
    "* **Addition**: for each child, multiply its parent's gradient by 1.\n",
    "* **Multiplication**: each child borrows the data value from its sibling and multiplies it with the parent's gradient.\n"
   ],
   "metadata": {
    "collapsed": false
   }
  },
  {
   "cell_type": "code",
   "execution_count": 11,
   "outputs": [
    {
     "data": {
      "image/svg+xml": "<?xml version=\"1.0\" encoding=\"UTF-8\" standalone=\"no\"?>\n<!DOCTYPE svg PUBLIC \"-//W3C//DTD SVG 1.1//EN\"\n \"http://www.w3.org/Graphics/SVG/1.1/DTD/svg11.dtd\">\n<!-- Generated by graphviz version 7.1.0 (20230121.1956)\n -->\n<!-- Pages: 1 -->\n<svg width=\"1208pt\" height=\"127pt\"\n viewBox=\"0.00 0.00 1208.00 127.00\" xmlns=\"http://www.w3.org/2000/svg\" xmlns:xlink=\"http://www.w3.org/1999/xlink\">\n<g id=\"graph0\" class=\"graph\" transform=\"scale(1 1) rotate(0) translate(4 123)\">\n<polygon fill=\"white\" stroke=\"none\" points=\"-4,4 -4,-123 1204,-123 1204,4 -4,4\"/>\n<!-- 4430423056 -->\n<g id=\"node1\" class=\"node\">\n<title>4430423056</title>\n<polygon fill=\"none\" stroke=\"black\" points=\"334,-27.5 334,-63.5 562,-63.5 562,-27.5 334,-27.5\"/>\n<text text-anchor=\"middle\" x=\"360.5\" y=\"-41.8\" font-family=\"Times,serif\" font-size=\"14.00\">x1*w1</text>\n<polyline fill=\"none\" stroke=\"black\" points=\"387,-27.5 387,-63.5\"/>\n<text text-anchor=\"middle\" x=\"431.5\" y=\"-41.8\" font-family=\"Times,serif\" font-size=\"14.00\">data: &#45;6.0000</text>\n<polyline fill=\"none\" stroke=\"black\" points=\"476,-27.5 476,-63.5\"/>\n<text text-anchor=\"middle\" x=\"519\" y=\"-41.8\" font-family=\"Times,serif\" font-size=\"14.00\">grad: 0.0000</text>\n</g>\n<!-- 4431382480+ -->\n<g id=\"node9\" class=\"node\">\n<title>4431382480+</title>\n<ellipse fill=\"none\" stroke=\"black\" cx=\"625\" cy=\"-72.5\" rx=\"27\" ry=\"18\"/>\n<text text-anchor=\"middle\" x=\"625\" y=\"-68.8\" font-family=\"Times,serif\" font-size=\"14.00\">+</text>\n</g>\n<!-- 4430423056&#45;&gt;4431382480+ -->\n<g id=\"edge8\" class=\"edge\">\n<title>4430423056&#45;&gt;4431382480+</title>\n<path fill=\"none\" stroke=\"black\" d=\"M561.81,-62.9C570.66,-64.27 579.14,-65.58 586.83,-66.76\"/>\n<polygon fill=\"black\" stroke=\"black\" points=\"586.29,-70.22 596.71,-68.29 587.36,-63.31 586.29,-70.22\"/>\n</g>\n<!-- 4430423056* -->\n<g id=\"node2\" class=\"node\">\n<title>4430423056*</title>\n<ellipse fill=\"none\" stroke=\"black\" cx=\"271\" cy=\"-45.5\" rx=\"27\" ry=\"18\"/>\n<text text-anchor=\"middle\" x=\"271\" y=\"-41.8\" font-family=\"Times,serif\" font-size=\"14.00\">*</text>\n</g>\n<!-- 4430423056*&#45;&gt;4430423056 -->\n<g id=\"edge1\" class=\"edge\">\n<title>4430423056*&#45;&gt;4430423056</title>\n<path fill=\"none\" stroke=\"black\" d=\"M298.2,-45.5C305.45,-45.5 313.84,-45.5 322.85,-45.5\"/>\n<polygon fill=\"black\" stroke=\"black\" points=\"322.62,-49 332.62,-45.5 322.62,-42 322.62,-49\"/>\n</g>\n<!-- 4431005264 -->\n<g id=\"node3\" class=\"node\">\n<title>4431005264</title>\n<polygon fill=\"none\" stroke=\"black\" points=\"4,-55.5 4,-91.5 204,-91.5 204,-55.5 4,-55.5\"/>\n<text text-anchor=\"middle\" x=\"19\" y=\"-69.8\" font-family=\"Times,serif\" font-size=\"14.00\">x1</text>\n<polyline fill=\"none\" stroke=\"black\" points=\"34,-55.5 34,-91.5\"/>\n<text text-anchor=\"middle\" x=\"76\" y=\"-69.8\" font-family=\"Times,serif\" font-size=\"14.00\">data: 2.0000</text>\n<polyline fill=\"none\" stroke=\"black\" points=\"118,-55.5 118,-91.5\"/>\n<text text-anchor=\"middle\" x=\"161\" y=\"-69.8\" font-family=\"Times,serif\" font-size=\"14.00\">grad: 0.0000</text>\n</g>\n<!-- 4431005264&#45;&gt;4430423056* -->\n<g id=\"edge7\" class=\"edge\">\n<title>4431005264&#45;&gt;4430423056*</title>\n<path fill=\"none\" stroke=\"black\" d=\"M203.84,-56.73C214.24,-54.96 224.28,-53.26 233.27,-51.73\"/>\n<polygon fill=\"black\" stroke=\"black\" points=\"233.64,-55.22 242.92,-50.1 232.47,-48.32 233.64,-55.22\"/>\n</g>\n<!-- 4431003856 -->\n<g id=\"node4\" class=\"node\">\n<title>4431003856</title>\n<polygon fill=\"none\" stroke=\"black\" points=\"346.5,-82.5 346.5,-118.5 549.5,-118.5 549.5,-82.5 346.5,-82.5\"/>\n<text text-anchor=\"middle\" x=\"363\" y=\"-96.8\" font-family=\"Times,serif\" font-size=\"14.00\">w0</text>\n<polyline fill=\"none\" stroke=\"black\" points=\"379.5,-82.5 379.5,-118.5\"/>\n<text text-anchor=\"middle\" x=\"421.5\" y=\"-96.8\" font-family=\"Times,serif\" font-size=\"14.00\">data: 7.0000</text>\n<polyline fill=\"none\" stroke=\"black\" points=\"463.5,-82.5 463.5,-118.5\"/>\n<text text-anchor=\"middle\" x=\"506.5\" y=\"-96.8\" font-family=\"Times,serif\" font-size=\"14.00\">grad: 0.0000</text>\n</g>\n<!-- 4431003856&#45;&gt;4431382480+ -->\n<g id=\"edge5\" class=\"edge\">\n<title>4431003856&#45;&gt;4431382480+</title>\n<path fill=\"none\" stroke=\"black\" d=\"M549.28,-84.46C562.77,-82.3 575.84,-80.21 587.18,-78.39\"/>\n<polygon fill=\"black\" stroke=\"black\" points=\"587.5,-81.88 596.83,-76.85 586.4,-74.97 587.5,-81.88\"/>\n</g>\n<!-- 4431005136 -->\n<g id=\"node5\" class=\"node\">\n<title>4431005136</title>\n<polygon fill=\"none\" stroke=\"black\" points=\"1007,-54.5 1007,-90.5 1200,-90.5 1200,-54.5 1007,-54.5\"/>\n<text text-anchor=\"middle\" x=\"1018.5\" y=\"-68.8\" font-family=\"Times,serif\" font-size=\"14.00\">a</text>\n<polyline fill=\"none\" stroke=\"black\" points=\"1030,-54.5 1030,-90.5\"/>\n<text text-anchor=\"middle\" x=\"1072\" y=\"-68.8\" font-family=\"Times,serif\" font-size=\"14.00\">data: 0.7616</text>\n<polyline fill=\"none\" stroke=\"black\" points=\"1114,-54.5 1114,-90.5\"/>\n<text text-anchor=\"middle\" x=\"1157\" y=\"-68.8\" font-family=\"Times,serif\" font-size=\"14.00\">grad: 0.0000</text>\n</g>\n<!-- 4431005136tanh -->\n<g id=\"node6\" class=\"node\">\n<title>4431005136tanh</title>\n<ellipse fill=\"none\" stroke=\"black\" cx=\"944\" cy=\"-72.5\" rx=\"27\" ry=\"18\"/>\n<text text-anchor=\"middle\" x=\"944\" y=\"-68.8\" font-family=\"Times,serif\" font-size=\"14.00\">tanh</text>\n</g>\n<!-- 4431005136tanh&#45;&gt;4431005136 -->\n<g id=\"edge2\" class=\"edge\">\n<title>4431005136tanh&#45;&gt;4431005136</title>\n<path fill=\"none\" stroke=\"black\" d=\"M971.36,-72.5C978.57,-72.5 986.84,-72.5 995.66,-72.5\"/>\n<polygon fill=\"black\" stroke=\"black\" points=\"995.56,-76 1005.56,-72.5 995.56,-69 995.56,-76\"/>\n</g>\n<!-- 4430747984 -->\n<g id=\"node7\" class=\"node\">\n<title>4430747984</title>\n<polygon fill=\"none\" stroke=\"black\" points=\"0,-0.5 0,-36.5 208,-36.5 208,-0.5 0,-0.5\"/>\n<text text-anchor=\"middle\" x=\"16.5\" y=\"-14.8\" font-family=\"Times,serif\" font-size=\"14.00\">w1</text>\n<polyline fill=\"none\" stroke=\"black\" points=\"33,-0.5 33,-36.5\"/>\n<text text-anchor=\"middle\" x=\"77.5\" y=\"-14.8\" font-family=\"Times,serif\" font-size=\"14.00\">data: &#45;3.0000</text>\n<polyline fill=\"none\" stroke=\"black\" points=\"122,-0.5 122,-36.5\"/>\n<text text-anchor=\"middle\" x=\"165\" y=\"-14.8\" font-family=\"Times,serif\" font-size=\"14.00\">grad: 0.0000</text>\n</g>\n<!-- 4430747984&#45;&gt;4430423056* -->\n<g id=\"edge4\" class=\"edge\">\n<title>4430747984&#45;&gt;4430423056*</title>\n<path fill=\"none\" stroke=\"black\" d=\"M207.62,-35.29C216.59,-36.76 225.21,-38.17 233.04,-39.45\"/>\n<polygon fill=\"black\" stroke=\"black\" points=\"232.33,-42.88 242.76,-41.04 233.46,-35.97 232.33,-42.88\"/>\n</g>\n<!-- 4431382480 -->\n<g id=\"node8\" class=\"node\">\n<title>4431382480</title>\n<polygon fill=\"none\" stroke=\"black\" points=\"688,-54.5 688,-90.5 881,-90.5 881,-54.5 688,-54.5\"/>\n<text text-anchor=\"middle\" x=\"699.5\" y=\"-68.8\" font-family=\"Times,serif\" font-size=\"14.00\">z</text>\n<polyline fill=\"none\" stroke=\"black\" points=\"711,-54.5 711,-90.5\"/>\n<text text-anchor=\"middle\" x=\"753\" y=\"-68.8\" font-family=\"Times,serif\" font-size=\"14.00\">data: 1.0000</text>\n<polyline fill=\"none\" stroke=\"black\" points=\"795,-54.5 795,-90.5\"/>\n<text text-anchor=\"middle\" x=\"838\" y=\"-68.8\" font-family=\"Times,serif\" font-size=\"14.00\">grad: 0.0000</text>\n</g>\n<!-- 4431382480&#45;&gt;4431005136tanh -->\n<g id=\"edge6\" class=\"edge\">\n<title>4431382480&#45;&gt;4431005136tanh</title>\n<path fill=\"none\" stroke=\"black\" d=\"M880.75,-72.5C889.34,-72.5 897.65,-72.5 905.26,-72.5\"/>\n<polygon fill=\"black\" stroke=\"black\" points=\"905.05,-76 915.05,-72.5 905.05,-69 905.05,-76\"/>\n</g>\n<!-- 4431382480+&#45;&gt;4431382480 -->\n<g id=\"edge3\" class=\"edge\">\n<title>4431382480+&#45;&gt;4431382480</title>\n<path fill=\"none\" stroke=\"black\" d=\"M652.36,-72.5C659.57,-72.5 667.84,-72.5 676.66,-72.5\"/>\n<polygon fill=\"black\" stroke=\"black\" points=\"676.56,-76 686.56,-72.5 676.56,-69 676.56,-76\"/>\n</g>\n</g>\n</svg>\n",
      "text/plain": "<graphviz.graphs.Digraph at 0x108218790>"
     },
     "execution_count": 11,
     "metadata": {},
     "output_type": "execute_result"
    }
   ],
   "source": [
    "w1 = Value(-3.0, label='w1')\n",
    "x1 = Value(2.0, label='x1')\n",
    "w0 = Value(7.0, label='w0')\n",
    "w1x1 = w1 * x1; w1x1.label = 'x1*w1'\n",
    "z = w1x1 + w0; z.label = 'z'\n",
    "a = z.tanh(); a.label = 'a'\n",
    "\n",
    "a.plot()"
   ],
   "metadata": {
    "collapsed": false,
    "ExecuteTime": {
     "end_time": "2023-07-19T12:09:05.177944Z",
     "start_time": "2023-07-19T12:09:05.036691Z"
    }
   }
  },
  {
   "cell_type": "code",
   "execution_count": 12,
   "outputs": [
    {
     "data": {
      "image/svg+xml": "<?xml version=\"1.0\" encoding=\"UTF-8\" standalone=\"no\"?>\n<!DOCTYPE svg PUBLIC \"-//W3C//DTD SVG 1.1//EN\"\n \"http://www.w3.org/Graphics/SVG/1.1/DTD/svg11.dtd\">\n<!-- Generated by graphviz version 7.1.0 (20230121.1956)\n -->\n<!-- Pages: 1 -->\n<svg width=\"1208pt\" height=\"127pt\"\n viewBox=\"0.00 0.00 1208.00 127.00\" xmlns=\"http://www.w3.org/2000/svg\" xmlns:xlink=\"http://www.w3.org/1999/xlink\">\n<g id=\"graph0\" class=\"graph\" transform=\"scale(1 1) rotate(0) translate(4 123)\">\n<polygon fill=\"white\" stroke=\"none\" points=\"-4,4 -4,-123 1204,-123 1204,4 -4,4\"/>\n<!-- 4430423056 -->\n<g id=\"node1\" class=\"node\">\n<title>4430423056</title>\n<polygon fill=\"none\" stroke=\"black\" points=\"334,-27.5 334,-63.5 562,-63.5 562,-27.5 334,-27.5\"/>\n<text text-anchor=\"middle\" x=\"360.5\" y=\"-41.8\" font-family=\"Times,serif\" font-size=\"14.00\">x1*w1</text>\n<polyline fill=\"none\" stroke=\"black\" points=\"387,-27.5 387,-63.5\"/>\n<text text-anchor=\"middle\" x=\"431.5\" y=\"-41.8\" font-family=\"Times,serif\" font-size=\"14.00\">data: &#45;6.0000</text>\n<polyline fill=\"none\" stroke=\"black\" points=\"476,-27.5 476,-63.5\"/>\n<text text-anchor=\"middle\" x=\"519\" y=\"-41.8\" font-family=\"Times,serif\" font-size=\"14.00\">grad: 0.4200</text>\n</g>\n<!-- 4431382480+ -->\n<g id=\"node9\" class=\"node\">\n<title>4431382480+</title>\n<ellipse fill=\"none\" stroke=\"black\" cx=\"625\" cy=\"-72.5\" rx=\"27\" ry=\"18\"/>\n<text text-anchor=\"middle\" x=\"625\" y=\"-68.8\" font-family=\"Times,serif\" font-size=\"14.00\">+</text>\n</g>\n<!-- 4430423056&#45;&gt;4431382480+ -->\n<g id=\"edge8\" class=\"edge\">\n<title>4430423056&#45;&gt;4431382480+</title>\n<path fill=\"none\" stroke=\"black\" d=\"M561.81,-62.9C570.66,-64.27 579.14,-65.58 586.83,-66.76\"/>\n<polygon fill=\"black\" stroke=\"black\" points=\"586.29,-70.22 596.71,-68.29 587.36,-63.31 586.29,-70.22\"/>\n</g>\n<!-- 4430423056* -->\n<g id=\"node2\" class=\"node\">\n<title>4430423056*</title>\n<ellipse fill=\"none\" stroke=\"black\" cx=\"271\" cy=\"-45.5\" rx=\"27\" ry=\"18\"/>\n<text text-anchor=\"middle\" x=\"271\" y=\"-41.8\" font-family=\"Times,serif\" font-size=\"14.00\">*</text>\n</g>\n<!-- 4430423056*&#45;&gt;4430423056 -->\n<g id=\"edge1\" class=\"edge\">\n<title>4430423056*&#45;&gt;4430423056</title>\n<path fill=\"none\" stroke=\"black\" d=\"M298.2,-45.5C305.45,-45.5 313.84,-45.5 322.85,-45.5\"/>\n<polygon fill=\"black\" stroke=\"black\" points=\"322.62,-49 332.62,-45.5 322.62,-42 322.62,-49\"/>\n</g>\n<!-- 4431005264 -->\n<g id=\"node3\" class=\"node\">\n<title>4431005264</title>\n<polygon fill=\"none\" stroke=\"black\" points=\"2,-55.5 2,-91.5 206,-91.5 206,-55.5 2,-55.5\"/>\n<text text-anchor=\"middle\" x=\"17\" y=\"-69.8\" font-family=\"Times,serif\" font-size=\"14.00\">x1</text>\n<polyline fill=\"none\" stroke=\"black\" points=\"32,-55.5 32,-91.5\"/>\n<text text-anchor=\"middle\" x=\"74\" y=\"-69.8\" font-family=\"Times,serif\" font-size=\"14.00\">data: 2.0000</text>\n<polyline fill=\"none\" stroke=\"black\" points=\"116,-55.5 116,-91.5\"/>\n<text text-anchor=\"middle\" x=\"161\" y=\"-69.8\" font-family=\"Times,serif\" font-size=\"14.00\">grad: &#45;1.2600</text>\n</g>\n<!-- 4431005264&#45;&gt;4430423056* -->\n<g id=\"edge7\" class=\"edge\">\n<title>4431005264&#45;&gt;4430423056*</title>\n<path fill=\"none\" stroke=\"black\" d=\"M205.73,-56.41C215.4,-54.77 224.72,-53.18 233.12,-51.76\"/>\n<polygon fill=\"black\" stroke=\"black\" points=\"233.55,-55.24 242.82,-50.11 232.38,-48.33 233.55,-55.24\"/>\n</g>\n<!-- 4431003856 -->\n<g id=\"node4\" class=\"node\">\n<title>4431003856</title>\n<polygon fill=\"none\" stroke=\"black\" points=\"346.5,-82.5 346.5,-118.5 549.5,-118.5 549.5,-82.5 346.5,-82.5\"/>\n<text text-anchor=\"middle\" x=\"363\" y=\"-96.8\" font-family=\"Times,serif\" font-size=\"14.00\">w0</text>\n<polyline fill=\"none\" stroke=\"black\" points=\"379.5,-82.5 379.5,-118.5\"/>\n<text text-anchor=\"middle\" x=\"421.5\" y=\"-96.8\" font-family=\"Times,serif\" font-size=\"14.00\">data: 7.0000</text>\n<polyline fill=\"none\" stroke=\"black\" points=\"463.5,-82.5 463.5,-118.5\"/>\n<text text-anchor=\"middle\" x=\"506.5\" y=\"-96.8\" font-family=\"Times,serif\" font-size=\"14.00\">grad: 0.4200</text>\n</g>\n<!-- 4431003856&#45;&gt;4431382480+ -->\n<g id=\"edge5\" class=\"edge\">\n<title>4431003856&#45;&gt;4431382480+</title>\n<path fill=\"none\" stroke=\"black\" d=\"M549.28,-84.46C562.77,-82.3 575.84,-80.21 587.18,-78.39\"/>\n<polygon fill=\"black\" stroke=\"black\" points=\"587.5,-81.88 596.83,-76.85 586.4,-74.97 587.5,-81.88\"/>\n</g>\n<!-- 4431005136 -->\n<g id=\"node5\" class=\"node\">\n<title>4431005136</title>\n<polygon fill=\"none\" stroke=\"black\" points=\"1007,-54.5 1007,-90.5 1200,-90.5 1200,-54.5 1007,-54.5\"/>\n<text text-anchor=\"middle\" x=\"1018.5\" y=\"-68.8\" font-family=\"Times,serif\" font-size=\"14.00\">a</text>\n<polyline fill=\"none\" stroke=\"black\" points=\"1030,-54.5 1030,-90.5\"/>\n<text text-anchor=\"middle\" x=\"1072\" y=\"-68.8\" font-family=\"Times,serif\" font-size=\"14.00\">data: 0.7616</text>\n<polyline fill=\"none\" stroke=\"black\" points=\"1114,-54.5 1114,-90.5\"/>\n<text text-anchor=\"middle\" x=\"1157\" y=\"-68.8\" font-family=\"Times,serif\" font-size=\"14.00\">grad: 1.0000</text>\n</g>\n<!-- 4431005136tanh -->\n<g id=\"node6\" class=\"node\">\n<title>4431005136tanh</title>\n<ellipse fill=\"none\" stroke=\"black\" cx=\"944\" cy=\"-72.5\" rx=\"27\" ry=\"18\"/>\n<text text-anchor=\"middle\" x=\"944\" y=\"-68.8\" font-family=\"Times,serif\" font-size=\"14.00\">tanh</text>\n</g>\n<!-- 4431005136tanh&#45;&gt;4431005136 -->\n<g id=\"edge2\" class=\"edge\">\n<title>4431005136tanh&#45;&gt;4431005136</title>\n<path fill=\"none\" stroke=\"black\" d=\"M971.36,-72.5C978.57,-72.5 986.84,-72.5 995.66,-72.5\"/>\n<polygon fill=\"black\" stroke=\"black\" points=\"995.56,-76 1005.56,-72.5 995.56,-69 995.56,-76\"/>\n</g>\n<!-- 4430747984 -->\n<g id=\"node7\" class=\"node\">\n<title>4430747984</title>\n<polygon fill=\"none\" stroke=\"black\" points=\"0,-0.5 0,-36.5 208,-36.5 208,-0.5 0,-0.5\"/>\n<text text-anchor=\"middle\" x=\"16.5\" y=\"-14.8\" font-family=\"Times,serif\" font-size=\"14.00\">w1</text>\n<polyline fill=\"none\" stroke=\"black\" points=\"33,-0.5 33,-36.5\"/>\n<text text-anchor=\"middle\" x=\"77.5\" y=\"-14.8\" font-family=\"Times,serif\" font-size=\"14.00\">data: &#45;3.0000</text>\n<polyline fill=\"none\" stroke=\"black\" points=\"122,-0.5 122,-36.5\"/>\n<text text-anchor=\"middle\" x=\"165\" y=\"-14.8\" font-family=\"Times,serif\" font-size=\"14.00\">grad: 0.8400</text>\n</g>\n<!-- 4430747984&#45;&gt;4430423056* -->\n<g id=\"edge4\" class=\"edge\">\n<title>4430747984&#45;&gt;4430423056*</title>\n<path fill=\"none\" stroke=\"black\" d=\"M207.62,-35.29C216.59,-36.76 225.21,-38.17 233.04,-39.45\"/>\n<polygon fill=\"black\" stroke=\"black\" points=\"232.33,-42.88 242.76,-41.04 233.46,-35.97 232.33,-42.88\"/>\n</g>\n<!-- 4431382480 -->\n<g id=\"node8\" class=\"node\">\n<title>4431382480</title>\n<polygon fill=\"none\" stroke=\"black\" points=\"688,-54.5 688,-90.5 881,-90.5 881,-54.5 688,-54.5\"/>\n<text text-anchor=\"middle\" x=\"699.5\" y=\"-68.8\" font-family=\"Times,serif\" font-size=\"14.00\">z</text>\n<polyline fill=\"none\" stroke=\"black\" points=\"711,-54.5 711,-90.5\"/>\n<text text-anchor=\"middle\" x=\"753\" y=\"-68.8\" font-family=\"Times,serif\" font-size=\"14.00\">data: 1.0000</text>\n<polyline fill=\"none\" stroke=\"black\" points=\"795,-54.5 795,-90.5\"/>\n<text text-anchor=\"middle\" x=\"838\" y=\"-68.8\" font-family=\"Times,serif\" font-size=\"14.00\">grad: 0.4200</text>\n</g>\n<!-- 4431382480&#45;&gt;4431005136tanh -->\n<g id=\"edge6\" class=\"edge\">\n<title>4431382480&#45;&gt;4431005136tanh</title>\n<path fill=\"none\" stroke=\"black\" d=\"M880.75,-72.5C889.34,-72.5 897.65,-72.5 905.26,-72.5\"/>\n<polygon fill=\"black\" stroke=\"black\" points=\"905.05,-76 915.05,-72.5 905.05,-69 905.05,-76\"/>\n</g>\n<!-- 4431382480+&#45;&gt;4431382480 -->\n<g id=\"edge3\" class=\"edge\">\n<title>4431382480+&#45;&gt;4431382480</title>\n<path fill=\"none\" stroke=\"black\" d=\"M652.36,-72.5C659.57,-72.5 667.84,-72.5 676.66,-72.5\"/>\n<polygon fill=\"black\" stroke=\"black\" points=\"676.56,-76 686.56,-72.5 676.56,-69 676.56,-76\"/>\n</g>\n</g>\n</svg>\n",
      "text/plain": "<graphviz.graphs.Digraph at 0x108218310>"
     },
     "execution_count": 12,
     "metadata": {},
     "output_type": "execute_result"
    }
   ],
   "source": [
    "a.grad = 1  # da/da\n",
    "z.grad = 0.42  # da/dz\n",
    "w1x1.grad = z.grad * 1.0  # da/dw1x1\n",
    "w0.grad = z.grad * 1.0  # da/dw0\n",
    "x1.grad = w1x1.grad * w1.data  # da/dx1\n",
    "w1.grad = w1x1.grad * x1.data  # da/dw1\n",
    "\n",
    "a.plot()"
   ],
   "metadata": {
    "collapsed": false,
    "ExecuteTime": {
     "end_time": "2023-07-19T12:09:05.299588Z",
     "start_time": "2023-07-19T12:09:05.178837Z"
    }
   }
  },
  {
   "cell_type": "markdown",
   "source": [
    "### Automated gradient calculation"
   ],
   "metadata": {
    "collapsed": false
   }
  },
  {
   "cell_type": "code",
   "execution_count": 13,
   "outputs": [
    {
     "data": {
      "image/svg+xml": "<?xml version=\"1.0\" encoding=\"UTF-8\" standalone=\"no\"?>\n<!DOCTYPE svg PUBLIC \"-//W3C//DTD SVG 1.1//EN\"\n \"http://www.w3.org/Graphics/SVG/1.1/DTD/svg11.dtd\">\n<!-- Generated by graphviz version 7.1.0 (20230121.1956)\n -->\n<!-- Pages: 1 -->\n<svg width=\"1208pt\" height=\"127pt\"\n viewBox=\"0.00 0.00 1208.00 127.00\" xmlns=\"http://www.w3.org/2000/svg\" xmlns:xlink=\"http://www.w3.org/1999/xlink\">\n<g id=\"graph0\" class=\"graph\" transform=\"scale(1 1) rotate(0) translate(4 123)\">\n<polygon fill=\"white\" stroke=\"none\" points=\"-4,4 -4,-123 1204,-123 1204,4 -4,4\"/>\n<!-- 4431705104 -->\n<g id=\"node1\" class=\"node\">\n<title>4431705104</title>\n<polygon fill=\"none\" stroke=\"black\" points=\"1007,-54.5 1007,-90.5 1200,-90.5 1200,-54.5 1007,-54.5\"/>\n<text text-anchor=\"middle\" x=\"1018.5\" y=\"-68.8\" font-family=\"Times,serif\" font-size=\"14.00\">a</text>\n<polyline fill=\"none\" stroke=\"black\" points=\"1030,-54.5 1030,-90.5\"/>\n<text text-anchor=\"middle\" x=\"1072\" y=\"-68.8\" font-family=\"Times,serif\" font-size=\"14.00\">data: 0.7616</text>\n<polyline fill=\"none\" stroke=\"black\" points=\"1114,-54.5 1114,-90.5\"/>\n<text text-anchor=\"middle\" x=\"1157\" y=\"-68.8\" font-family=\"Times,serif\" font-size=\"14.00\">grad: 1.0000</text>\n</g>\n<!-- 4431705104tanh -->\n<g id=\"node2\" class=\"node\">\n<title>4431705104tanh</title>\n<ellipse fill=\"none\" stroke=\"black\" cx=\"944\" cy=\"-72.5\" rx=\"27\" ry=\"18\"/>\n<text text-anchor=\"middle\" x=\"944\" y=\"-68.8\" font-family=\"Times,serif\" font-size=\"14.00\">tanh</text>\n</g>\n<!-- 4431705104tanh&#45;&gt;4431705104 -->\n<g id=\"edge1\" class=\"edge\">\n<title>4431705104tanh&#45;&gt;4431705104</title>\n<path fill=\"none\" stroke=\"black\" d=\"M971.36,-72.5C978.57,-72.5 986.84,-72.5 995.66,-72.5\"/>\n<polygon fill=\"black\" stroke=\"black\" points=\"995.56,-76 1005.56,-72.5 995.56,-69 995.56,-76\"/>\n</g>\n<!-- 4431704080 -->\n<g id=\"node3\" class=\"node\">\n<title>4431704080</title>\n<polygon fill=\"none\" stroke=\"black\" points=\"346.5,-82.5 346.5,-118.5 549.5,-118.5 549.5,-82.5 346.5,-82.5\"/>\n<text text-anchor=\"middle\" x=\"363\" y=\"-96.8\" font-family=\"Times,serif\" font-size=\"14.00\">w0</text>\n<polyline fill=\"none\" stroke=\"black\" points=\"379.5,-82.5 379.5,-118.5\"/>\n<text text-anchor=\"middle\" x=\"421.5\" y=\"-96.8\" font-family=\"Times,serif\" font-size=\"14.00\">data: 7.0000</text>\n<polyline fill=\"none\" stroke=\"black\" points=\"463.5,-82.5 463.5,-118.5\"/>\n<text text-anchor=\"middle\" x=\"506.5\" y=\"-96.8\" font-family=\"Times,serif\" font-size=\"14.00\">grad: 0.4200</text>\n</g>\n<!-- 4431704144+ -->\n<g id=\"node5\" class=\"node\">\n<title>4431704144+</title>\n<ellipse fill=\"none\" stroke=\"black\" cx=\"625\" cy=\"-72.5\" rx=\"27\" ry=\"18\"/>\n<text text-anchor=\"middle\" x=\"625\" y=\"-68.8\" font-family=\"Times,serif\" font-size=\"14.00\">+</text>\n</g>\n<!-- 4431704080&#45;&gt;4431704144+ -->\n<g id=\"edge6\" class=\"edge\">\n<title>4431704080&#45;&gt;4431704144+</title>\n<path fill=\"none\" stroke=\"black\" d=\"M549.28,-84.46C562.77,-82.3 575.84,-80.21 587.18,-78.39\"/>\n<polygon fill=\"black\" stroke=\"black\" points=\"587.5,-81.88 596.83,-76.85 586.4,-74.97 587.5,-81.88\"/>\n</g>\n<!-- 4431704144 -->\n<g id=\"node4\" class=\"node\">\n<title>4431704144</title>\n<polygon fill=\"none\" stroke=\"black\" points=\"688,-54.5 688,-90.5 881,-90.5 881,-54.5 688,-54.5\"/>\n<text text-anchor=\"middle\" x=\"699.5\" y=\"-68.8\" font-family=\"Times,serif\" font-size=\"14.00\">z</text>\n<polyline fill=\"none\" stroke=\"black\" points=\"711,-54.5 711,-90.5\"/>\n<text text-anchor=\"middle\" x=\"753\" y=\"-68.8\" font-family=\"Times,serif\" font-size=\"14.00\">data: 1.0000</text>\n<polyline fill=\"none\" stroke=\"black\" points=\"795,-54.5 795,-90.5\"/>\n<text text-anchor=\"middle\" x=\"838\" y=\"-68.8\" font-family=\"Times,serif\" font-size=\"14.00\">grad: 0.4200</text>\n</g>\n<!-- 4431704144&#45;&gt;4431705104tanh -->\n<g id=\"edge7\" class=\"edge\">\n<title>4431704144&#45;&gt;4431705104tanh</title>\n<path fill=\"none\" stroke=\"black\" d=\"M880.75,-72.5C889.34,-72.5 897.65,-72.5 905.26,-72.5\"/>\n<polygon fill=\"black\" stroke=\"black\" points=\"905.05,-76 915.05,-72.5 905.05,-69 905.05,-76\"/>\n</g>\n<!-- 4431704144+&#45;&gt;4431704144 -->\n<g id=\"edge2\" class=\"edge\">\n<title>4431704144+&#45;&gt;4431704144</title>\n<path fill=\"none\" stroke=\"black\" d=\"M652.36,-72.5C659.57,-72.5 667.84,-72.5 676.66,-72.5\"/>\n<polygon fill=\"black\" stroke=\"black\" points=\"676.56,-76 686.56,-72.5 676.56,-69 676.56,-76\"/>\n</g>\n<!-- 4431696016 -->\n<g id=\"node6\" class=\"node\">\n<title>4431696016</title>\n<polygon fill=\"none\" stroke=\"black\" points=\"0,-55.5 0,-91.5 208,-91.5 208,-55.5 0,-55.5\"/>\n<text text-anchor=\"middle\" x=\"16.5\" y=\"-69.8\" font-family=\"Times,serif\" font-size=\"14.00\">w1</text>\n<polyline fill=\"none\" stroke=\"black\" points=\"33,-55.5 33,-91.5\"/>\n<text text-anchor=\"middle\" x=\"77.5\" y=\"-69.8\" font-family=\"Times,serif\" font-size=\"14.00\">data: &#45;3.0000</text>\n<polyline fill=\"none\" stroke=\"black\" points=\"122,-55.5 122,-91.5\"/>\n<text text-anchor=\"middle\" x=\"165\" y=\"-69.8\" font-family=\"Times,serif\" font-size=\"14.00\">grad: 0.8399</text>\n</g>\n<!-- 4431704400* -->\n<g id=\"node8\" class=\"node\">\n<title>4431704400*</title>\n<ellipse fill=\"none\" stroke=\"black\" cx=\"271\" cy=\"-45.5\" rx=\"27\" ry=\"18\"/>\n<text text-anchor=\"middle\" x=\"271\" y=\"-41.8\" font-family=\"Times,serif\" font-size=\"14.00\">*</text>\n</g>\n<!-- 4431696016&#45;&gt;4431704400* -->\n<g id=\"edge4\" class=\"edge\">\n<title>4431696016&#45;&gt;4431704400*</title>\n<path fill=\"none\" stroke=\"black\" d=\"M207.62,-56.09C216.67,-54.55 225.38,-53.07 233.27,-51.73\"/>\n<polygon fill=\"black\" stroke=\"black\" points=\"233.79,-55.19 243.07,-50.07 232.62,-48.29 233.79,-55.19\"/>\n</g>\n<!-- 4431704400 -->\n<g id=\"node7\" class=\"node\">\n<title>4431704400</title>\n<polygon fill=\"none\" stroke=\"black\" points=\"334,-27.5 334,-63.5 562,-63.5 562,-27.5 334,-27.5\"/>\n<text text-anchor=\"middle\" x=\"360.5\" y=\"-41.8\" font-family=\"Times,serif\" font-size=\"14.00\">x1*w1</text>\n<polyline fill=\"none\" stroke=\"black\" points=\"387,-27.5 387,-63.5\"/>\n<text text-anchor=\"middle\" x=\"431.5\" y=\"-41.8\" font-family=\"Times,serif\" font-size=\"14.00\">data: &#45;6.0000</text>\n<polyline fill=\"none\" stroke=\"black\" points=\"476,-27.5 476,-63.5\"/>\n<text text-anchor=\"middle\" x=\"519\" y=\"-41.8\" font-family=\"Times,serif\" font-size=\"14.00\">grad: 0.4200</text>\n</g>\n<!-- 4431704400&#45;&gt;4431704144+ -->\n<g id=\"edge8\" class=\"edge\">\n<title>4431704400&#45;&gt;4431704144+</title>\n<path fill=\"none\" stroke=\"black\" d=\"M561.81,-62.9C570.66,-64.27 579.14,-65.58 586.83,-66.76\"/>\n<polygon fill=\"black\" stroke=\"black\" points=\"586.29,-70.22 596.71,-68.29 587.36,-63.31 586.29,-70.22\"/>\n</g>\n<!-- 4431704400*&#45;&gt;4431704400 -->\n<g id=\"edge3\" class=\"edge\">\n<title>4431704400*&#45;&gt;4431704400</title>\n<path fill=\"none\" stroke=\"black\" d=\"M298.2,-45.5C305.45,-45.5 313.84,-45.5 322.85,-45.5\"/>\n<polygon fill=\"black\" stroke=\"black\" points=\"322.62,-49 332.62,-45.5 322.62,-42 322.62,-49\"/>\n</g>\n<!-- 4431704976 -->\n<g id=\"node9\" class=\"node\">\n<title>4431704976</title>\n<polygon fill=\"none\" stroke=\"black\" points=\"2,-0.5 2,-36.5 206,-36.5 206,-0.5 2,-0.5\"/>\n<text text-anchor=\"middle\" x=\"17\" y=\"-14.8\" font-family=\"Times,serif\" font-size=\"14.00\">x1</text>\n<polyline fill=\"none\" stroke=\"black\" points=\"32,-0.5 32,-36.5\"/>\n<text text-anchor=\"middle\" x=\"74\" y=\"-14.8\" font-family=\"Times,serif\" font-size=\"14.00\">data: 2.0000</text>\n<polyline fill=\"none\" stroke=\"black\" points=\"116,-0.5 116,-36.5\"/>\n<text text-anchor=\"middle\" x=\"161\" y=\"-14.8\" font-family=\"Times,serif\" font-size=\"14.00\">grad: &#45;1.2599</text>\n</g>\n<!-- 4431704976&#45;&gt;4431704400* -->\n<g id=\"edge5\" class=\"edge\">\n<title>4431704976&#45;&gt;4431704400*</title>\n<path fill=\"none\" stroke=\"black\" d=\"M205.73,-34.98C215.4,-36.57 224.72,-38.09 233.12,-39.46\"/>\n<polygon fill=\"black\" stroke=\"black\" points=\"232.39,-42.89 242.82,-41.05 233.52,-35.98 232.39,-42.89\"/>\n</g>\n</g>\n</svg>\n",
      "text/plain": "<graphviz.graphs.Digraph at 0x108267110>"
     },
     "execution_count": 13,
     "metadata": {},
     "output_type": "execute_result"
    }
   ],
   "source": [
    "w1 = Value(-3.0, label='w1')\n",
    "x1 = Value(2.0, label='x1')\n",
    "w0 = Value(7.0, label='w0')\n",
    "w1x1 = w1 * x1; w1x1.label = 'x1*w1'\n",
    "z = w1x1 + w0; z.label = 'z'\n",
    "a = z.tanh(); a.label = 'a'\n",
    "\n",
    "a.backward()\n",
    "\n",
    "a.plot()"
   ],
   "metadata": {
    "collapsed": false,
    "ExecuteTime": {
     "end_time": "2023-07-19T12:09:05.450187Z",
     "start_time": "2023-07-19T12:09:05.311345Z"
    }
   }
  },
  {
   "cell_type": "code",
   "execution_count": 13,
   "outputs": [],
   "source": [],
   "metadata": {
    "collapsed": false,
    "ExecuteTime": {
     "end_time": "2023-07-19T12:09:05.456209Z",
     "start_time": "2023-07-19T12:09:05.452006Z"
    }
   }
  }
 ],
 "metadata": {
  "kernelspec": {
   "display_name": "Python 3",
   "language": "python",
   "name": "python3"
  },
  "language_info": {
   "codemirror_mode": {
    "name": "ipython",
    "version": 2
   },
   "file_extension": ".py",
   "mimetype": "text/x-python",
   "name": "python",
   "nbconvert_exporter": "python",
   "pygments_lexer": "ipython2",
   "version": "2.7.6"
  }
 },
 "nbformat": 4,
 "nbformat_minor": 0
}

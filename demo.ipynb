{
 "cells": [
  {
   "cell_type": "markdown",
   "source": [
    "# Micrograd\n",
    "**Link**: https://github.com/karpathy/micrograd\n",
    "\n",
    "1. Micrograd is an autograd (automatic gradient) engine i.e. it implements backpropagation.\n",
    "2. **Backpropagation**: efficiently calculates the gradient of a loss function, with respect to the parameters of a neural network. This allows us to iteratively tune the parameters of the neural network to minimize the loss function and thereby improve the accuracy of the network.\n",
    "3. Micrograd allows us to build mathematical expressions as compute graphs. Imagine a compute graph with `x1`, `w1`, and `w0` nodes as input values. Say, the parent layer node `w1x1` is a multiplication (`*`) operator that calculates and stores the product of `x1` and `w1`. The grandparent layer `s` is an addition operator (`+`) that sums the values in the nodes `w1x1` and `w0`. This compute graph represents a _weighted linear combination_ ($s=w_1\\cdot x_1+w_0$).\n",
    "    1. Forward pass value of node `s` is stored in the `s.data` variable.\n",
    "    2. Run backpropagation starting at node `s` using the `s.backward()` method, which applies the chain rule from calculus, i.e. the derivative of `s` with respect to each internal node and inputs (`s`, `w1x1`, `x1`, `w1`, and `w0`).\n",
    "    3. The backward pass values, i.e. the gradients, are stored in `v.grad` e.g., `w1.grad` ($\\frac{ds}{dw_1}$). The gradient tells us how `w1` affects `s` i.e., if we slightly increment `w1`, how much would `s` change by?\n",
    "        * $\\frac{ds}{ds} = 1$; trivial and irrelevant for training neural networks.\n",
    "        * $\\frac{ds}{dx_1}$; derivative of the loss function w.r.t. the data is not useful for training neural networks because the data is fixed.\n",
    "        * $\\frac{ds}{dw_0}$, $\\frac{ds}{dw_1}$; derivatives of the loss function w.r.t. the weights is useful for training neural networks because the weights can be tuned.\n",
    "4. \"Micrograd is all you need\" to train neural networks. Everything else given by frameworks such as Torch and JAX is just computational efficiency."
   ],
   "metadata": {
    "collapsed": false
   }
  },
  {
   "cell_type": "code",
   "execution_count": 1,
   "metadata": {
    "collapsed": true,
    "ExecuteTime": {
     "end_time": "2023-07-17T18:51:16.105558Z",
     "start_time": "2023-07-17T18:51:15.692576Z"
    }
   },
   "outputs": [],
   "source": [
    "import numpy as np\n",
    "import matplotlib.pyplot as plt\n",
    "\n",
    "np.random.seed(1234)"
   ]
  },
  {
   "cell_type": "markdown",
   "source": [
    "## Derivative\n",
    "\n",
    "$$\n",
    "L = \\lim_{h \\rightarrow 0} \\frac{f(x + h) - f(x)}{h}\n",
    "$$\n",
    "\n",
    "### Univariate function"
   ],
   "metadata": {
    "collapsed": false
   }
  },
  {
   "cell_type": "code",
   "execution_count": 2,
   "outputs": [],
   "source": [
    "def f(x):\n",
    "    return 3*x**2 - 4*x + 5"
   ],
   "metadata": {
    "collapsed": false,
    "ExecuteTime": {
     "end_time": "2023-07-17T18:51:16.107814Z",
     "start_time": "2023-07-17T18:51:16.106207Z"
    }
   }
  },
  {
   "cell_type": "code",
   "execution_count": 3,
   "outputs": [
    {
     "data": {
      "text/plain": "20.0"
     },
     "execution_count": 3,
     "metadata": {},
     "output_type": "execute_result"
    }
   ],
   "source": [
    "f(3.0)"
   ],
   "metadata": {
    "collapsed": false,
    "ExecuteTime": {
     "end_time": "2023-07-17T18:51:16.111079Z",
     "start_time": "2023-07-17T18:51:16.109211Z"
    }
   }
  },
  {
   "cell_type": "code",
   "execution_count": 4,
   "outputs": [
    {
     "data": {
      "text/plain": "[<matplotlib.lines.Line2D at 0x1151c5410>]"
     },
     "execution_count": 4,
     "metadata": {},
     "output_type": "execute_result"
    },
    {
     "data": {
      "text/plain": "<Figure size 640x480 with 1 Axes>",
      "image/png": "[encoded data removed]"
     },
     "metadata": {},
     "output_type": "display_data"
    }
   ],
   "source": [
    "xs = np.arange(-5, 5, 0.25)\n",
    "ys = f(xs)\n",
    "plt.plot(xs, ys)"
   ],
   "metadata": {
    "collapsed": false,
    "ExecuteTime": {
     "end_time": "2023-07-17T18:51:16.179804Z",
     "start_time": "2023-07-17T18:51:16.111742Z"
    }
   }
  },
  {
   "cell_type": "code",
   "execution_count": 5,
   "outputs": [
    {
     "name": "stdout",
     "output_type": "stream",
     "text": [
      "f(x): 20.0\n",
      "f(x + h): 20.000014000003002\n",
      "df(x)/dx: 14.000003002223593\n",
      "6x - 4: 14.0\n"
     ]
    }
   ],
   "source": [
    "h = 1e-6\n",
    "x = 3.0\n",
    "\n",
    "print(f\"f(x): { f(x) }\")\n",
    "print(f\"f(x + h): { f(x + h) }\")\n",
    "print(f\"df(x)/dx: { (f(x + h) - f(x)) / h }\")\n",
    "print(f\"6x - 4: { 6*x - 4 }\")"
   ],
   "metadata": {
    "collapsed": false,
    "ExecuteTime": {
     "end_time": "2023-07-17T18:51:16.183662Z",
     "start_time": "2023-07-17T18:51:16.181470Z"
    }
   }
  },
  {
   "cell_type": "markdown",
   "source": [
    "### Multivariate function"
   ],
   "metadata": {
    "collapsed": false
   }
  },
  {
   "cell_type": "code",
   "execution_count": 6,
   "outputs": [],
   "source": [
    "def g(a, b, c):\n",
    "    return a * b + c"
   ],
   "metadata": {
    "collapsed": false,
    "ExecuteTime": {
     "end_time": "2023-07-17T18:51:16.185474Z",
     "start_time": "2023-07-17T18:51:16.183849Z"
    }
   }
  },
  {
   "cell_type": "code",
   "execution_count": 7,
   "outputs": [
    {
     "name": "stdout",
     "output_type": "stream",
     "text": [
      "g(w1, x1, w0): 4.0\n",
      "g(w1 + h, x1, w0): 3.9999969999999996\n",
      "dg(w1, x1, w0)/da: -3.000000000419334\n",
      "b: -3.0\n"
     ]
    }
   ],
   "source": [
    "h = 1e-6\n",
    "w1, x1, w0 = 2.0, -3.0, 10.0\n",
    "\n",
    "print(f\"g(w1, x1, w0): { g(w1, x1, w0) }\")\n",
    "print(f\"g(w1 + h, x1, w0): { g(w1 + h, x1, w0)}\")\n",
    "print(f\"dg(w1, x1, w0)/da: { (g(w1 + h, x1, w0) - g(w1, x1, w0)) / h }\")\n",
    "print(f\"b: { x1 }\")"
   ],
   "metadata": {
    "collapsed": false,
    "ExecuteTime": {
     "end_time": "2023-07-17T18:51:16.188557Z",
     "start_time": "2023-07-17T18:51:16.186700Z"
    }
   }
  },
  {
   "cell_type": "code",
   "execution_count": 8,
   "outputs": [
    {
     "name": "stdout",
     "output_type": "stream",
     "text": [
      "d(w1, x1, w0): 4.0\n",
      "d(w1, x1 + h, w0): 4.000002\n",
      "dg(w1, x1, w0)/db: 2.000000000279556\n",
      "a: 2.0\n"
     ]
    }
   ],
   "source": [
    "h = 1e-6\n",
    "w1, x1, w0 = 2.0, -3.0, 10.0\n",
    "\n",
    "print(f\"d(w1, x1, w0): { g(w1, x1, w0) }\")\n",
    "print(f\"d(w1, x1 + h, w0): { g(w1, x1 + h, w0) }\")\n",
    "print(f\"dg(w1, x1, w0)/db: { (g(w1, x1 + h, w0) - g(w1, x1, w0)) / h }\")\n",
    "print(f\"a: { w1 }\")"
   ],
   "metadata": {
    "collapsed": false,
    "ExecuteTime": {
     "end_time": "2023-07-17T18:51:16.191153Z",
     "start_time": "2023-07-17T18:51:16.189366Z"
    }
   }
  },
  {
   "cell_type": "code",
   "execution_count": 9,
   "outputs": [
    {
     "name": "stdout",
     "output_type": "stream",
     "text": [
      "g(w1, x1, w0): 4.0\n",
      "g(w1, x1, w0 + h): 4.000000999999999\n",
      "dg(w1, x1, w0)/dc: 0.9999999992515995\n",
      "1: 1\n"
     ]
    }
   ],
   "source": [
    "h = 1e-6\n",
    "w1, x1, w0 = 2.0, -3.0, 10.0\n",
    "\n",
    "print(f\"g(w1, x1, w0): { g(w1, x1, w0) }\")\n",
    "print(f\"g(w1, x1, w0 + h): { g(w1, x1, w0 + h) }\")\n",
    "print(f\"dg(w1, x1, w0)/dc: { (g(w1, x1, w0 + h) - g(w1, x1, w0)) / h }\")\n",
    "print(f\"1: { 1 }\")"
   ],
   "metadata": {
    "collapsed": false,
    "ExecuteTime": {
     "end_time": "2023-07-17T18:51:16.193893Z",
     "start_time": "2023-07-17T18:51:16.192066Z"
    }
   }
  },
  {
   "cell_type": "markdown",
   "source": [
    "## Building mathematical expressions\n",
    "\n",
    "1. The main thing to remember when implementing an operator for the `Value` object is that we know how to compute the local derivative (gradient of the function w.r.t. to each children) of the operator. Otherwise, the operator can be at any level of abstraction (exponent, addition, subtraction, division vs. tanh directly)."
   ],
   "metadata": {
    "collapsed": false
   }
  },
  {
   "cell_type": "code",
   "execution_count": 10,
   "outputs": [],
   "source": [
    "from micrograd.engine import Value"
   ],
   "metadata": {
    "collapsed": false,
    "ExecuteTime": {
     "end_time": "2023-07-17T18:51:16.251133Z",
     "start_time": "2023-07-17T18:51:16.194535Z"
    }
   }
  },
  {
   "cell_type": "code",
   "execution_count": 23,
   "outputs": [
    {
     "name": "stdout",
     "output_type": "stream",
     "text": [
      "Value(data=4.0)\n"
     ]
    }
   ],
   "source": [
    "w1 = Value(2.0, label='w1')\n",
    "x1 = Value(-3.0, label='x1')\n",
    "w0 = Value(10.0, label='w0')\n",
    "w1x1 = w1 * x1; w1x1.label = 'x1w1'\n",
    "s = w1x1 + w0; s.label = 's'\n",
    "print(s)"
   ],
   "metadata": {
    "collapsed": false,
    "ExecuteTime": {
     "end_time": "2023-07-17T19:39:53.094787Z",
     "start_time": "2023-07-17T19:39:53.091861Z"
    }
   }
  },
  {
   "cell_type": "code",
   "execution_count": 24,
   "outputs": [
    {
     "data": {
      "image/svg+xml": "<?xml version=\"1.0\" encoding=\"UTF-8\" standalone=\"no\"?>\n<!DOCTYPE svg PUBLIC \"-//W3C//DTD SVG 1.1//EN\"\n \"http://www.w3.org/Graphics/SVG/1.1/DTD/svg11.dtd\">\n<!-- Generated by graphviz version 8.1.0 (20230707.0739)\n -->\n<!-- Pages: 1 -->\n<svg width=\"871pt\" height=\"128pt\"\n viewBox=\"0.00 0.00 871.25 128.00\" xmlns=\"http://www.w3.org/2000/svg\" xmlns:xlink=\"http://www.w3.org/1999/xlink\">\n<g id=\"graph0\" class=\"graph\" transform=\"scale(1 1) rotate(0) translate(4 124)\">\n<polygon fill=\"white\" stroke=\"none\" points=\"-4,4 -4,-124 867.25,-124 867.25,4 -4,4\"/>\n<!-- 5125953040 -->\n<g id=\"node1\" class=\"node\">\n<title>5125953040</title>\n<polygon fill=\"none\" stroke=\"black\" points=\"0,-83.5 0,-119.5 202.5,-119.5 202.5,-83.5 0,-83.5\"/>\n<text text-anchor=\"middle\" x=\"14.75\" y=\"-96.7\" font-family=\"Times,serif\" font-size=\"14.00\">x1</text>\n<polyline fill=\"none\" stroke=\"black\" points=\"29.5,-84 29.5,-119.5\"/>\n<text text-anchor=\"middle\" x=\"73.5\" y=\"-96.7\" font-family=\"Times,serif\" font-size=\"14.00\">data: &#45;3.0000</text>\n<polyline fill=\"none\" stroke=\"black\" points=\"117.5,-84 117.5,-119.5\"/>\n<text text-anchor=\"middle\" x=\"160\" y=\"-96.7\" font-family=\"Times,serif\" font-size=\"14.00\">grad: 0.0000</text>\n</g>\n<!-- 4389907024* -->\n<g id=\"node3\" class=\"node\">\n<title>4389907024*</title>\n<ellipse fill=\"none\" stroke=\"black\" cx=\"265.5\" cy=\"-73.5\" rx=\"27\" ry=\"18\"/>\n<text text-anchor=\"middle\" x=\"265.5\" y=\"-68.45\" font-family=\"Times,serif\" font-size=\"14.00\">*</text>\n</g>\n<!-- 5125953040&#45;&gt;4389907024* -->\n<g id=\"edge5\" class=\"edge\">\n<title>5125953040&#45;&gt;4389907024*</title>\n<path fill=\"none\" stroke=\"black\" d=\"M202.23,-84.25C211.45,-82.65 220.33,-81.12 228.35,-79.74\"/>\n<polygon fill=\"black\" stroke=\"black\" points=\"228.8,-83.04 238.06,-77.89 227.61,-76.14 228.8,-83.04\"/>\n</g>\n<!-- 4389907024 -->\n<g id=\"node2\" class=\"node\">\n<title>4389907024</title>\n<polygon fill=\"none\" stroke=\"black\" points=\"328.5,-55.5 328.5,-91.5 547.5,-91.5 547.5,-55.5 328.5,-55.5\"/>\n<text text-anchor=\"middle\" x=\"351.5\" y=\"-68.7\" font-family=\"Times,serif\" font-size=\"14.00\">x1w1</text>\n<polyline fill=\"none\" stroke=\"black\" points=\"374.5,-56 374.5,-91.5\"/>\n<text text-anchor=\"middle\" x=\"418.5\" y=\"-68.7\" font-family=\"Times,serif\" font-size=\"14.00\">data: &#45;6.0000</text>\n<polyline fill=\"none\" stroke=\"black\" points=\"462.5,-56 462.5,-91.5\"/>\n<text text-anchor=\"middle\" x=\"505\" y=\"-68.7\" font-family=\"Times,serif\" font-size=\"14.00\">grad: 0.0000</text>\n</g>\n<!-- 5125958352+ -->\n<g id=\"node5\" class=\"node\">\n<title>5125958352+</title>\n<ellipse fill=\"none\" stroke=\"black\" cx=\"610.5\" cy=\"-45.5\" rx=\"27\" ry=\"18\"/>\n<text text-anchor=\"middle\" x=\"610.5\" y=\"-40.45\" font-family=\"Times,serif\" font-size=\"14.00\">+</text>\n</g>\n<!-- 4389907024&#45;&gt;5125958352+ -->\n<g id=\"edge4\" class=\"edge\">\n<title>4389907024&#45;&gt;5125958352+</title>\n<path fill=\"none\" stroke=\"black\" d=\"M547.46,-55.69C556.66,-54.18 565.46,-52.73 573.41,-51.43\"/>\n<polygon fill=\"black\" stroke=\"black\" points=\"573.71,-54.76 583.01,-49.69 572.57,-47.85 573.71,-54.76\"/>\n</g>\n<!-- 4389907024*&#45;&gt;4389907024 -->\n<g id=\"edge1\" class=\"edge\">\n<title>4389907024*&#45;&gt;4389907024</title>\n<path fill=\"none\" stroke=\"black\" d=\"M292.77,-73.5C300.09,-73.5 308.54,-73.5 317.61,-73.5\"/>\n<polygon fill=\"black\" stroke=\"black\" points=\"317.52,-77 327.52,-73.5 317.52,-70 317.52,-77\"/>\n</g>\n<!-- 5125958352 -->\n<g id=\"node4\" class=\"node\">\n<title>5125958352</title>\n<polygon fill=\"none\" stroke=\"black\" points=\"673.5,-27.5 673.5,-63.5 863.25,-63.5 863.25,-27.5 673.5,-27.5\"/>\n<text text-anchor=\"middle\" x=\"684.12\" y=\"-40.7\" font-family=\"Times,serif\" font-size=\"14.00\">s</text>\n<polyline fill=\"none\" stroke=\"black\" points=\"694.75,-28 694.75,-63.5\"/>\n<text text-anchor=\"middle\" x=\"736.5\" y=\"-40.7\" font-family=\"Times,serif\" font-size=\"14.00\">data: 4.0000</text>\n<polyline fill=\"none\" stroke=\"black\" points=\"778.25,-28 778.25,-63.5\"/>\n<text text-anchor=\"middle\" x=\"820.75\" y=\"-40.7\" font-family=\"Times,serif\" font-size=\"14.00\">grad: 0.0000</text>\n</g>\n<!-- 5125958352+&#45;&gt;5125958352 -->\n<g id=\"edge2\" class=\"edge\">\n<title>5125958352+&#45;&gt;5125958352</title>\n<path fill=\"none\" stroke=\"black\" d=\"M637.94,-45.5C645.31,-45.5 653.79,-45.5 662.81,-45.5\"/>\n<polygon fill=\"black\" stroke=\"black\" points=\"662.61,-49 672.61,-45.5 662.61,-42 662.61,-49\"/>\n</g>\n<!-- 5125953808 -->\n<g id=\"node6\" class=\"node\">\n<title>5125953808</title>\n<polygon fill=\"none\" stroke=\"black\" points=\"334.12,-0.5 334.12,-36.5 541.88,-36.5 541.88,-0.5 334.12,-0.5\"/>\n<text text-anchor=\"middle\" x=\"350.38\" y=\"-13.7\" font-family=\"Times,serif\" font-size=\"14.00\">w0</text>\n<polyline fill=\"none\" stroke=\"black\" points=\"366.62,-1 366.62,-36.5\"/>\n<text text-anchor=\"middle\" x=\"411.75\" y=\"-13.7\" font-family=\"Times,serif\" font-size=\"14.00\">data: 10.0000</text>\n<polyline fill=\"none\" stroke=\"black\" points=\"456.88,-1 456.88,-36.5\"/>\n<text text-anchor=\"middle\" x=\"499.38\" y=\"-13.7\" font-family=\"Times,serif\" font-size=\"14.00\">grad: 0.0000</text>\n</g>\n<!-- 5125953808&#45;&gt;5125958352+ -->\n<g id=\"edge3\" class=\"edge\">\n<title>5125953808&#45;&gt;5125958352+</title>\n<path fill=\"none\" stroke=\"black\" d=\"M541.62,-34.75C552.88,-36.53 563.71,-38.25 573.29,-39.77\"/>\n<polygon fill=\"black\" stroke=\"black\" points=\"572.49,-43.34 582.91,-41.45 573.58,-36.43 572.49,-43.34\"/>\n</g>\n<!-- 5125963664 -->\n<g id=\"node7\" class=\"node\">\n<title>5125963664</title>\n<polygon fill=\"none\" stroke=\"black\" points=\"0.75,-28.5 0.75,-64.5 201.75,-64.5 201.75,-28.5 0.75,-28.5\"/>\n<text text-anchor=\"middle\" x=\"17\" y=\"-41.7\" font-family=\"Times,serif\" font-size=\"14.00\">w1</text>\n<polyline fill=\"none\" stroke=\"black\" points=\"33.25,-29 33.25,-64.5\"/>\n<text text-anchor=\"middle\" x=\"75\" y=\"-41.7\" font-family=\"Times,serif\" font-size=\"14.00\">data: 2.0000</text>\n<polyline fill=\"none\" stroke=\"black\" points=\"116.75,-29 116.75,-64.5\"/>\n<text text-anchor=\"middle\" x=\"159.25\" y=\"-41.7\" font-family=\"Times,serif\" font-size=\"14.00\">grad: 0.0000</text>\n</g>\n<!-- 5125963664&#45;&gt;4389907024* -->\n<g id=\"edge6\" class=\"edge\">\n<title>5125963664&#45;&gt;4389907024*</title>\n<path fill=\"none\" stroke=\"black\" d=\"M201.31,-62.98C210.83,-64.57 220.01,-66.1 228.28,-67.47\"/>\n<polygon fill=\"black\" stroke=\"black\" points=\"227.5,-71.06 237.94,-69.25 228.65,-64.15 227.5,-71.06\"/>\n</g>\n</g>\n</svg>\n",
      "text/plain": "<graphviz.graphs.Digraph at 0x117a4ed90>"
     },
     "execution_count": 24,
     "metadata": {},
     "output_type": "execute_result"
    }
   ],
   "source": [
    "s.plot()"
   ],
   "metadata": {
    "collapsed": false,
    "ExecuteTime": {
     "end_time": "2023-07-17T19:39:54.838927Z",
     "start_time": "2023-07-17T19:39:54.705512Z"
    }
   }
  },
  {
   "cell_type": "markdown",
   "source": [
    "### Manual gradient calculation\n",
    "\n",
    "Using the chain rule in calculus—\n",
    "* $\\frac{ds}{ds} = 1$: trivial case.\n",
    "* $s = w_1x_1 + x_0$: linear combination formula.\n",
    "    * $\\frac{ds}{dw1x1} = 1$: if you increment a summation term by some amount, the overall sum will increase by the same amount.\n",
    "    * $\\frac{ds}{dw_0} = 1$: same as above.\n",
    "    * $\\frac{ds}{dx_1} = \\frac{ds}{dw1x1}\\cdot\\frac{w1x1}{dx_1} = 1\\cdot w_1$: if I increase $x_1$ by a small amount, it will proportionally add $w_1$ to the overall output.\n",
    "    * $\\frac{ds}{dw_1} = \\frac{ds}{dw1x1}\\cdot\\frac{w1x1}{dw_1} = 1\\cdot x_1$: if I increase $w_1$ by a small amount, it will proportionally add $x_1$ to the overall output.\n",
    "\n",
    "In summary,\n",
    "* **Addition**: multiply the parent's gradient by 1.\n",
    "* **Multiplication**: each child borrows the data value from its sibling and multiplies it with the parent's gradient.\n"
   ],
   "metadata": {
    "collapsed": false
   }
  },
  {
   "cell_type": "code",
   "execution_count": 25,
   "outputs": [
    {
     "data": {
      "image/svg+xml": "<?xml version=\"1.0\" encoding=\"UTF-8\" standalone=\"no\"?>\n<!DOCTYPE svg PUBLIC \"-//W3C//DTD SVG 1.1//EN\"\n \"http://www.w3.org/Graphics/SVG/1.1/DTD/svg11.dtd\">\n<!-- Generated by graphviz version 8.1.0 (20230707.0739)\n -->\n<!-- Pages: 1 -->\n<svg width=\"874pt\" height=\"128pt\"\n viewBox=\"0.00 0.00 874.25 128.00\" xmlns=\"http://www.w3.org/2000/svg\" xmlns:xlink=\"http://www.w3.org/1999/xlink\">\n<g id=\"graph0\" class=\"graph\" transform=\"scale(1 1) rotate(0) translate(4 124)\">\n<polygon fill=\"white\" stroke=\"none\" points=\"-4,4 -4,-124 870.25,-124 870.25,4 -4,4\"/>\n<!-- 5125953040 -->\n<g id=\"node1\" class=\"node\">\n<title>5125953040</title>\n<polygon fill=\"none\" stroke=\"black\" points=\"1.5,-83.5 1.5,-119.5 204,-119.5 204,-83.5 1.5,-83.5\"/>\n<text text-anchor=\"middle\" x=\"16.25\" y=\"-96.7\" font-family=\"Times,serif\" font-size=\"14.00\">x1</text>\n<polyline fill=\"none\" stroke=\"black\" points=\"31,-84 31,-119.5\"/>\n<text text-anchor=\"middle\" x=\"75\" y=\"-96.7\" font-family=\"Times,serif\" font-size=\"14.00\">data: &#45;3.0000</text>\n<polyline fill=\"none\" stroke=\"black\" points=\"119,-84 119,-119.5\"/>\n<text text-anchor=\"middle\" x=\"161.5\" y=\"-96.7\" font-family=\"Times,serif\" font-size=\"14.00\">grad: 2.0000</text>\n</g>\n<!-- 4389907024* -->\n<g id=\"node3\" class=\"node\">\n<title>4389907024*</title>\n<ellipse fill=\"none\" stroke=\"black\" cx=\"268.5\" cy=\"-73.5\" rx=\"27\" ry=\"18\"/>\n<text text-anchor=\"middle\" x=\"268.5\" y=\"-68.45\" font-family=\"Times,serif\" font-size=\"14.00\">*</text>\n</g>\n<!-- 5125953040&#45;&gt;4389907024* -->\n<g id=\"edge5\" class=\"edge\">\n<title>5125953040&#45;&gt;4389907024*</title>\n<path fill=\"none\" stroke=\"black\" d=\"M203.72,-84.41C213.43,-82.75 222.77,-81.15 231.18,-79.71\"/>\n<polygon fill=\"black\" stroke=\"black\" points=\"231.74,-82.99 241.01,-77.86 230.56,-76.09 231.74,-82.99\"/>\n</g>\n<!-- 4389907024 -->\n<g id=\"node2\" class=\"node\">\n<title>4389907024</title>\n<polygon fill=\"none\" stroke=\"black\" points=\"331.5,-55.5 331.5,-91.5 550.5,-91.5 550.5,-55.5 331.5,-55.5\"/>\n<text text-anchor=\"middle\" x=\"354.5\" y=\"-68.7\" font-family=\"Times,serif\" font-size=\"14.00\">x1w1</text>\n<polyline fill=\"none\" stroke=\"black\" points=\"377.5,-56 377.5,-91.5\"/>\n<text text-anchor=\"middle\" x=\"421.5\" y=\"-68.7\" font-family=\"Times,serif\" font-size=\"14.00\">data: &#45;6.0000</text>\n<polyline fill=\"none\" stroke=\"black\" points=\"465.5,-56 465.5,-91.5\"/>\n<text text-anchor=\"middle\" x=\"508\" y=\"-68.7\" font-family=\"Times,serif\" font-size=\"14.00\">grad: 1.0000</text>\n</g>\n<!-- 5125958352+ -->\n<g id=\"node5\" class=\"node\">\n<title>5125958352+</title>\n<ellipse fill=\"none\" stroke=\"black\" cx=\"613.5\" cy=\"-45.5\" rx=\"27\" ry=\"18\"/>\n<text text-anchor=\"middle\" x=\"613.5\" y=\"-40.45\" font-family=\"Times,serif\" font-size=\"14.00\">+</text>\n</g>\n<!-- 4389907024&#45;&gt;5125958352+ -->\n<g id=\"edge4\" class=\"edge\">\n<title>4389907024&#45;&gt;5125958352+</title>\n<path fill=\"none\" stroke=\"black\" d=\"M550.46,-55.69C559.66,-54.18 568.46,-52.73 576.41,-51.43\"/>\n<polygon fill=\"black\" stroke=\"black\" points=\"576.71,-54.76 586.01,-49.69 575.57,-47.85 576.71,-54.76\"/>\n</g>\n<!-- 4389907024*&#45;&gt;4389907024 -->\n<g id=\"edge1\" class=\"edge\">\n<title>4389907024*&#45;&gt;4389907024</title>\n<path fill=\"none\" stroke=\"black\" d=\"M295.77,-73.5C303.09,-73.5 311.54,-73.5 320.61,-73.5\"/>\n<polygon fill=\"black\" stroke=\"black\" points=\"320.52,-77 330.52,-73.5 320.52,-70 320.52,-77\"/>\n</g>\n<!-- 5125958352 -->\n<g id=\"node4\" class=\"node\">\n<title>5125958352</title>\n<polygon fill=\"none\" stroke=\"black\" points=\"676.5,-27.5 676.5,-63.5 866.25,-63.5 866.25,-27.5 676.5,-27.5\"/>\n<text text-anchor=\"middle\" x=\"687.12\" y=\"-40.7\" font-family=\"Times,serif\" font-size=\"14.00\">s</text>\n<polyline fill=\"none\" stroke=\"black\" points=\"697.75,-28 697.75,-63.5\"/>\n<text text-anchor=\"middle\" x=\"739.5\" y=\"-40.7\" font-family=\"Times,serif\" font-size=\"14.00\">data: 4.0000</text>\n<polyline fill=\"none\" stroke=\"black\" points=\"781.25,-28 781.25,-63.5\"/>\n<text text-anchor=\"middle\" x=\"823.75\" y=\"-40.7\" font-family=\"Times,serif\" font-size=\"14.00\">grad: 1.0000</text>\n</g>\n<!-- 5125958352+&#45;&gt;5125958352 -->\n<g id=\"edge2\" class=\"edge\">\n<title>5125958352+&#45;&gt;5125958352</title>\n<path fill=\"none\" stroke=\"black\" d=\"M640.94,-45.5C648.31,-45.5 656.79,-45.5 665.81,-45.5\"/>\n<polygon fill=\"black\" stroke=\"black\" points=\"665.61,-49 675.61,-45.5 665.61,-42 665.61,-49\"/>\n</g>\n<!-- 5125953808 -->\n<g id=\"node6\" class=\"node\">\n<title>5125953808</title>\n<polygon fill=\"none\" stroke=\"black\" points=\"337.12,-0.5 337.12,-36.5 544.88,-36.5 544.88,-0.5 337.12,-0.5\"/>\n<text text-anchor=\"middle\" x=\"353.38\" y=\"-13.7\" font-family=\"Times,serif\" font-size=\"14.00\">w0</text>\n<polyline fill=\"none\" stroke=\"black\" points=\"369.62,-1 369.62,-36.5\"/>\n<text text-anchor=\"middle\" x=\"414.75\" y=\"-13.7\" font-family=\"Times,serif\" font-size=\"14.00\">data: 10.0000</text>\n<polyline fill=\"none\" stroke=\"black\" points=\"459.88,-1 459.88,-36.5\"/>\n<text text-anchor=\"middle\" x=\"502.38\" y=\"-13.7\" font-family=\"Times,serif\" font-size=\"14.00\">grad: 1.0000</text>\n</g>\n<!-- 5125953808&#45;&gt;5125958352+ -->\n<g id=\"edge3\" class=\"edge\">\n<title>5125953808&#45;&gt;5125958352+</title>\n<path fill=\"none\" stroke=\"black\" d=\"M544.62,-34.75C555.88,-36.53 566.71,-38.25 576.29,-39.77\"/>\n<polygon fill=\"black\" stroke=\"black\" points=\"575.49,-43.34 585.91,-41.45 576.58,-36.43 575.49,-43.34\"/>\n</g>\n<!-- 5125963664 -->\n<g id=\"node7\" class=\"node\">\n<title>5125963664</title>\n<polygon fill=\"none\" stroke=\"black\" points=\"0,-28.5 0,-64.5 205.5,-64.5 205.5,-28.5 0,-28.5\"/>\n<text text-anchor=\"middle\" x=\"16.25\" y=\"-41.7\" font-family=\"Times,serif\" font-size=\"14.00\">w1</text>\n<polyline fill=\"none\" stroke=\"black\" points=\"32.5,-29 32.5,-64.5\"/>\n<text text-anchor=\"middle\" x=\"74.25\" y=\"-41.7\" font-family=\"Times,serif\" font-size=\"14.00\">data: 2.0000</text>\n<polyline fill=\"none\" stroke=\"black\" points=\"116,-29 116,-64.5\"/>\n<text text-anchor=\"middle\" x=\"160.75\" y=\"-41.7\" font-family=\"Times,serif\" font-size=\"14.00\">grad: &#45;3.0000</text>\n</g>\n<!-- 5125963664&#45;&gt;4389907024* -->\n<g id=\"edge6\" class=\"edge\">\n<title>5125963664&#45;&gt;4389907024*</title>\n<path fill=\"none\" stroke=\"black\" d=\"M205.13,-63.22C214.29,-64.73 223.1,-66.18 231.08,-67.49\"/>\n<polygon fill=\"black\" stroke=\"black\" points=\"230.3,-71.08 240.74,-69.25 231.44,-64.17 230.3,-71.08\"/>\n</g>\n</g>\n</svg>\n",
      "text/plain": "<graphviz.graphs.Digraph at 0x117a50a90>"
     },
     "execution_count": 25,
     "metadata": {},
     "output_type": "execute_result"
    }
   ],
   "source": [
    "s.grad = 1\n",
    "w1x1.grad = 1\n",
    "w0.grad = 1\n",
    "x1.grad = w1.data\n",
    "w1.grad = x1.data\n",
    "\n",
    "s.plot()"
   ],
   "metadata": {
    "collapsed": false,
    "ExecuteTime": {
     "end_time": "2023-07-17T19:40:04.066969Z",
     "start_time": "2023-07-17T19:40:03.967033Z"
    }
   }
  },
  {
   "cell_type": "markdown",
   "source": [
    "### Automated gradient calculation"
   ],
   "metadata": {
    "collapsed": false
   }
  },
  {
   "cell_type": "code",
   "execution_count": 27,
   "outputs": [
    {
     "data": {
      "text/plain": "<Figure size 640x480 with 1 Axes>",
      "image/png": "[encoded data removed]"
     },
     "metadata": {},
     "output_type": "display_data"
    }
   ],
   "source": [
    "plt.plot(np.arange(-5, 5, 0.1), np.tanh(np.arange(-5, 5, 0.1))); plt.grid()"
   ],
   "metadata": {
    "collapsed": false,
    "ExecuteTime": {
     "end_time": "2023-07-17T20:37:00.972356Z",
     "start_time": "2023-07-17T20:37:00.906963Z"
    }
   }
  },
  {
   "cell_type": "code",
   "execution_count": null,
   "outputs": [],
   "source": [],
   "metadata": {
    "collapsed": false
   }
  }
 ],
 "metadata": {
  "kernelspec": {
   "display_name": "Python 3",
   "language": "python",
   "name": "python3"
  },
  "language_info": {
   "codemirror_mode": {
    "name": "ipython",
    "version": 2
   },
   "file_extension": ".py",
   "mimetype": "text/x-python",
   "name": "python",
   "nbconvert_exporter": "python",
   "pygments_lexer": "ipython2",
   "version": "2.7.6"
  }
 },
 "nbformat": 4,
 "nbformat_minor": 0
}
